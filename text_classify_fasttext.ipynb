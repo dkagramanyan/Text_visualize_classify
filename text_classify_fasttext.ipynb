{
 "cells": [
  {
   "cell_type": "code",
   "execution_count": null,
   "metadata": {
    "collapsed": true,
    "pycharm": {
     "name": "#%%\n"
    }
   },
   "outputs": [],
   "source": [
    "import copy\n",
    "\n",
    "from gensim.models import Word2Vec, FastText, KeyedVectors, fasttext, word2vec\n",
    "\n",
    "import os\n",
    "\n",
    "#os.environ['KMP_DUPLICATE_LIB_OK'] = 'True'\n",
    "\n",
    "import itertools\n",
    "import pandas as pd\n",
    "import numpy as np\n",
    "from datasets import Dataset\n",
    "from torch import nn\n",
    "from datasets import load_metric\n",
    "from transformers import AutoTokenizer\n",
    "from transformers import TrainingArguments, Trainer, AutoModelForSequenceClassification, DataCollatorWithPadding,DistilBertForSequenceClassification\n",
    "from transformers.modeling_outputs import SequenceClassifierOutput\n",
    "\n",
    "from transformers import DataCollatorForTokenClassification\n",
    "import torch\n",
    "from torch.autograd import Variable\n",
    "from pathlib import Path\n",
    "import re\n",
    "from datasets import load_dataset\n",
    "\n",
    "from sklearn.model_selection import train_test_split\n",
    "import copy\n",
    "import time\n",
    "# import wandb\n",
    "\n",
    "from matplotlib import pyplot as plt\n",
    "import seaborn as sns\n",
    "\n",
    "from sklearn.neural_network import MLPClassifier\n",
    "from sklearn.gaussian_process import GaussianProcessClassifier\n",
    "from sklearn.gaussian_process.kernels import RBF\n",
    "from sklearn.ensemble import RandomForestClassifier\n",
    "from sklearn.linear_model import SGDClassifier\n",
    "from sklearn.model_selection import train_test_split\n",
    "import xgboost as xgb\n",
    "from sklearn.metrics import confusion_matrix, classification_report\n",
    "from umap import UMAP"
   ]
  },
  {
   "cell_type": "code",
   "execution_count": null,
   "outputs": [],
   "source": [
    "df = pd.read_csv('DataML3.csv',encoding='utf-8')\n",
    "df.columns"
   ],
   "metadata": {
    "collapsed": false,
    "pycharm": {
     "name": "#%%\n"
    }
   }
  },
  {
   "cell_type": "code",
   "execution_count": null,
   "outputs": [],
   "source": [
    "data=df[df['OverallSatisfactionScore']<=0.5]\n",
    "data.head(5)"
   ],
   "metadata": {
    "collapsed": false,
    "pycharm": {
     "name": "#%%\n"
    }
   }
  },
  {
   "cell_type": "code",
   "execution_count": null,
   "outputs": [],
   "source": [
    "classes_score=np.sort(data['OverallSatisfactionScore'].drop_duplicates().values)\n",
    "classes_score_dict={}\n",
    "for i,cls in enumerate(classes_score):\n",
    "    classes_score_dict[str(cls)]=i\n",
    "print(len(classes_score_dict))\n",
    "data['OverallSatisfactionScore']=data['OverallSatisfactionScore'].map(lambda x: classes_score_dict[str(x)])\n",
    "data.head(5)"
   ],
   "metadata": {
    "collapsed": false,
    "pycharm": {
     "name": "#%%\n"
    }
   }
  },
  {
   "cell_type": "code",
   "execution_count": null,
   "outputs": [],
   "source": [
    "classes_service_type=np.sort(data['QHC_FUP_SERVICE_TYPE'].drop_duplicates().values)\n",
    "classes_service_type_dict={}\n",
    "for i,cls in enumerate(classes_service_type):\n",
    "    classes_service_type_dict[str(cls)]=i\n",
    "print(len(classes_service_type_dict))\n",
    "data['QHC_FUP_SERVICE_TYPE']=data['QHC_FUP_SERVICE_TYPE'].map(lambda x: classes_service_type_dict[str(x)])\n",
    "data.head(5)"
   ],
   "metadata": {
    "collapsed": false,
    "pycharm": {
     "name": "#%%\n"
    }
   }
  },
  {
   "cell_type": "markdown",
   "source": [
    "# ConsumerFactor & OverallSatisfactionScore"
   ],
   "metadata": {
    "collapsed": false,
    "pycharm": {
     "name": "#%% md\n"
    }
   }
  },
  {
   "cell_type": "code",
   "execution_count": null,
   "outputs": [],
   "source": [
    "def f1(x):\n",
    "    val=re.search('\\[(.*?)\\]',str(x))\n",
    "    if val is None:\n",
    "        val=None\n",
    "    else:\n",
    "        val=val.group(0)\n",
    "        val=val.replace('[','').replace(']','').replace('/',' ')\n",
    "    return val\n",
    "\n",
    "\n",
    "cf_df=data.dropna()\n",
    "cf_df=cf_df[['ConsumerFactor','OverallSatisfactionScore','DEFECT_DESC']]\n",
    "cf_df['ConsumerFactor']=cf_df['ConsumerFactor'].map(f1)\n",
    "\n",
    "cf_df2=pd.DataFrame(columns=['IH','CI','PS','AD'])\n",
    "cf_df=cf_df.dropna()\n",
    "for i in range(len(cf_df)):\n",
    "    val=cf_df.iloc[i]['ConsumerFactor']\n",
    "    a,b,c,d=0,0,0,0\n",
    "    if 'IH' in val:\n",
    "        a+=1\n",
    "    if 'CI' in val:\n",
    "        b+=1\n",
    "    if 'PS' in val:\n",
    "        c+=1\n",
    "    if 'AD' in val:\n",
    "        d+=1\n",
    "    cf_df2 = cf_df2.append({'IH': a, 'CI': b, 'PS': c,'AD':d}, ignore_index=True)\n",
    "\n",
    "cf_df=cf_df.dropna()\n",
    "# cf_df=pd.concat([cf_df2,cf_df],axis=1)\n",
    "cf_df = pd.concat([cf_df2.reset_index(drop=True),cf_df.reset_index(drop=True)],axis=1)\n",
    "cf_df"
   ],
   "metadata": {
    "collapsed": false,
    "pycharm": {
     "name": "#%%\n"
    }
   }
  },
  {
   "cell_type": "code",
   "execution_count": null,
   "outputs": [],
   "source": [
    "X_train, X_test, y_train, y_test = train_test_split(\n",
    "    cf_df[['IH','CI','PS','AD']], cf_df['OverallSatisfactionScore'], test_size=0.3, random_state=42)"
   ],
   "metadata": {
    "collapsed": false,
    "pycharm": {
     "name": "#%%\n"
    }
   }
  },
  {
   "cell_type": "code",
   "execution_count": null,
   "outputs": [],
   "source": [
    "# clf = MLPClassifier(solver='lbfgs', alpha=1e-5,\n",
    "#                     hidden_layer_sizes=(5,10,2), random_state=1)\n",
    "# clf=SGDClassifier(loss=\"hinge\", penalty=\"l2\", max_iter=20)\n",
    "# clf = RandomForestClassifier(max_depth=20, random_state=0)\n",
    "\n",
    "kernel = 1.0 * RBF(1.0)\n",
    "clf = GaussianProcessClassifier(kernel=kernel,\n",
    "                                random_state=0)\n",
    "\n",
    "res=clf.fit(X_train, y_train)\n",
    "print(res)\n",
    "res=clf.score(X_test,y_test)\n",
    "print(res)"
   ],
   "metadata": {
    "collapsed": false,
    "pycharm": {
     "name": "#%%\n"
    }
   }
  },
  {
   "cell_type": "code",
   "execution_count": null,
   "outputs": [],
   "source": [
    "cf_df['OverallSatisfactionScore'].hist()\n",
    "plt.show()"
   ],
   "metadata": {
    "collapsed": false,
    "pycharm": {
     "name": "#%%\n"
    }
   }
  },
  {
   "cell_type": "code",
   "execution_count": null,
   "outputs": [],
   "source": [
    "xlf = xgb.XGBRegressor(max_depth=50,\n",
    "                       learning_rate=0.01,\n",
    "                       objective=\"reg:squarederror\",\n",
    "                       nthread=-1,\n",
    "                       gamma=0,\n",
    "                       seed=1440,\n",
    "                       missing=1,\n",
    "                       )"
   ],
   "metadata": {
    "collapsed": false,
    "pycharm": {
     "name": "#%%\n"
    }
   }
  },
  {
   "cell_type": "code",
   "execution_count": null,
   "outputs": [],
   "source": [
    "xlf.fit(X_train.values, y_train.values, verbose=True, eval_set=[(X_test.values, y_test.values)])"
   ],
   "metadata": {
    "collapsed": false,
    "pycharm": {
     "name": "#%%\n"
    }
   }
  },
  {
   "cell_type": "code",
   "execution_count": null,
   "outputs": [],
   "source": [
    "y_test.values.shape"
   ],
   "metadata": {
    "collapsed": false,
    "pycharm": {
     "name": "#%%\n"
    }
   }
  },
  {
   "cell_type": "code",
   "execution_count": null,
   "outputs": [],
   "source": [
    "preds"
   ],
   "metadata": {
    "collapsed": false,
    "pycharm": {
     "name": "#%%\n"
    }
   }
  },
  {
   "cell_type": "code",
   "execution_count": null,
   "outputs": [],
   "source": [
    "labels=['0','1','2','3','4']\n",
    "preds = xlf.predict(X_test.values)\n",
    "# preds=np.array([round(x) for x in preds])\n",
    "\n",
    "print(classification_report(y_test.values,preds,labels=labels))"
   ],
   "metadata": {
    "collapsed": false,
    "pycharm": {
     "name": "#%%\n"
    }
   }
  },
  {
   "cell_type": "markdown",
   "source": [
    "# Visualization"
   ],
   "metadata": {
    "collapsed": false,
    "pycharm": {
     "name": "#%% md\n"
    }
   }
  },
  {
   "cell_type": "code",
   "execution_count": null,
   "outputs": [],
   "source": [
    "ft_path='weights/geowac_lemmas_none_fasttextskipgram_300_5_2020/model.model'\n",
    "ft_model = fasttext.FastTextKeyedVectors.load(ft_path)"
   ],
   "metadata": {
    "collapsed": false,
    "pycharm": {
     "name": "#%%\n"
    }
   }
  },
  {
   "cell_type": "code",
   "execution_count": null,
   "outputs": [],
   "source": [
    "ft_model.most_similar('экран')"
   ],
   "metadata": {
    "collapsed": false,
    "pycharm": {
     "name": "#%%\n"
    }
   }
  },
  {
   "cell_type": "code",
   "execution_count": null,
   "outputs": [],
   "source": [
    "ft_model['экран']"
   ],
   "metadata": {
    "collapsed": false,
    "pycharm": {
     "name": "#%%\n"
    }
   }
  },
  {
   "cell_type": "code",
   "execution_count": null,
   "outputs": [],
   "source": [
    "from transformers import AutoTokenizer, AutoModel\n",
    "import torch\n",
    "#Mean Pooling - Take attention mask into account for correct averaging\n",
    "\n"
   ],
   "metadata": {
    "collapsed": false,
    "pycharm": {
     "name": "#%%\n"
    }
   }
  },
  {
   "cell_type": "code",
   "execution_count": null,
   "outputs": [],
   "source": [
    "#Load AutoModel from huggingface model repository\n",
    "tokenizer = AutoTokenizer.from_pretrained(\"sberbank-ai/sbert_large_mt_nlu_ru\")\n",
    "model = AutoModel.from_pretrained(\"sberbank-ai/sbert_large_mt_nlu_ru\")\n",
    "#Tokenize sentences"
   ],
   "metadata": {
    "collapsed": false,
    "pycharm": {
     "name": "#%%\n"
    }
   }
  },
  {
   "cell_type": "code",
   "execution_count": null,
   "outputs": [],
   "source": [
    "sentences = ['Привет! Как твои дела?']\n",
    "\n",
    "# model.to('cuda')\n",
    "\n",
    "def mean_pooling(model_output, attention_mask):\n",
    "    token_embeddings = model_output[0] #First element of model_output contains all token embeddings\n",
    "    input_mask_expanded = attention_mask.unsqueeze(-1).expand(token_embeddings.size()).float()\n",
    "    sum_embeddings = torch.sum(token_embeddings * input_mask_expanded, 1)\n",
    "    sum_mask = torch.clamp(input_mask_expanded.sum(1), min=1e-9)\n",
    "    return sum_embeddings / sum_mask\n",
    "\n",
    "def get_emb(x):\n",
    "    encoded_input = tokenizer(x, padding=True, truncation=True, max_length=24, return_tensors='pt')\n",
    "    #Compute token embeddings\n",
    "    with torch.no_grad():\n",
    "        model_output = model(**encoded_input)\n",
    "    #Perform pooling. In this case, mean pooling\n",
    "    sentence_embeddings = mean_pooling(model_output, encoded_input['attention_mask'])\n",
    "\n",
    "    return sentence_embeddings.detach().cpu().numpy()[0]"
   ],
   "metadata": {
    "collapsed": false,
    "pycharm": {
     "name": "#%%\n"
    }
   }
  },
  {
   "cell_type": "code",
   "execution_count": null,
   "outputs": [],
   "source": [
    "embeddings=[]\n",
    "for desc in cf_df['DEFECT_DESC']:\n",
    "    # x=torch.autograd.Variable(desc)\n",
    "    embeddings.append(get_emb(desc))"
   ],
   "metadata": {
    "collapsed": false,
    "pycharm": {
     "name": "#%%\n"
    }
   }
  },
  {
   "cell_type": "code",
   "execution_count": null,
   "outputs": [],
   "source": [
    "umap_2d = UMAP(random_state=86)\n",
    "\n",
    "umaped_vct = umap_2d.fit_transform(embeddings)"
   ],
   "metadata": {
    "collapsed": false,
    "pycharm": {
     "name": "#%%\n"
    }
   }
  },
  {
   "cell_type": "code",
   "execution_count": null,
   "outputs": [],
   "source": [
    "colors=['r','orange','blue','black','green']\n",
    "clr=[colors[key] for key in cf_df['OverallSatisfactionScore']]\n",
    "\n",
    "plt.figure(figsize=(10,10))\n",
    "plt.scatter(umaped_vct[:,0],umaped_vct[:,1],c=clr)\n",
    "plt.show()"
   ],
   "metadata": {
    "collapsed": false,
    "pycharm": {
     "name": "#%%\n"
    }
   }
  },
  {
   "cell_type": "code",
   "execution_count": null,
   "outputs": [],
   "source": [
    "umaped_vct_colors=np.concatenate([umaped_vct,cf_df['OverallSatisfactionScore'].values.reshape((-1,1))],axis=1)"
   ],
   "metadata": {
    "collapsed": false,
    "pycharm": {
     "name": "#%%\n"
    }
   }
  },
  {
   "cell_type": "code",
   "execution_count": null,
   "outputs": [],
   "source": [
    "umap_2d = UMAP(random_state=86)\n",
    "\n",
    "umaped_vct_colors_2d = umap_2d.fit_transform(umaped_vct_colors)"
   ],
   "metadata": {
    "collapsed": false,
    "pycharm": {
     "name": "#%%\n"
    }
   }
  },
  {
   "cell_type": "code",
   "execution_count": null,
   "outputs": [],
   "source": [
    "classes_score_dict"
   ],
   "metadata": {
    "collapsed": false,
    "pycharm": {
     "name": "#%%\n"
    }
   }
  },
  {
   "cell_type": "code",
   "execution_count": null,
   "outputs": [],
   "source": [
    "colors=['r','orange','blue','black','green']\n",
    "clr=[colors[key] for key in cf_df['OverallSatisfactionScore']]\n",
    "\n",
    "plt.figure(figsize=(150,150))\n",
    "plt.scatter(umaped_vct_colors_2d[:,0],umaped_vct_colors_2d[:,1],c=clr)\n",
    "for i in range(len(umaped_vct_colors_2d[:,0])):\n",
    "    plt.text(umaped_vct_colors_2d[i,0],umaped_vct_colors_2d[i,1],cf_df['DEFECT_DESC'].iloc[i])\n",
    "plt.legend(['red - 0','orange - 0.166','blue - 0.167','black - 0.333','green - 0.5'],fontsize=50)\n",
    "plt.savefig('map.png')\n",
    "plt.show()"
   ],
   "metadata": {
    "collapsed": false,
    "pycharm": {
     "name": "#%%\n"
    }
   }
  },
  {
   "cell_type": "code",
   "execution_count": null,
   "outputs": [],
   "source": [
    "plt.savefig('map.png')"
   ],
   "metadata": {
    "collapsed": false,
    "pycharm": {
     "name": "#%%\n"
    }
   }
  }
 ],
 "metadata": {
  "kernelspec": {
   "name": "torch",
   "language": "python",
   "display_name": "torch"
  },
  "language_info": {
   "codemirror_mode": {
    "name": "ipython",
    "version": 2
   },
   "file_extension": ".py",
   "mimetype": "text/x-python",
   "name": "python",
   "nbconvert_exporter": "python",
   "pygments_lexer": "ipython2",
   "version": "2.7.6"
  }
 },
 "nbformat": 4,
 "nbformat_minor": 0
}