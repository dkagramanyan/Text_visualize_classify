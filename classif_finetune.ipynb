{
 "cells": [
  {
   "cell_type": "markdown",
   "source": [
    "# Классификация комментариев"
   ],
   "metadata": {
    "collapsed": false,
    "pycharm": {
     "name": "#%% md\n"
    }
   }
  },
  {
   "cell_type": "markdown",
   "source": [
    "Задачу классификации текстов можно решить, используя следующий пайплайн:\n",
    "1. Предобработка данных\n",
    "2. Получение эмбеддингов предложений\n",
    "3. Обработка эмбеддингов с помощью бинарного классификатора\n",
    "4. Оценка точности модели"
   ],
   "metadata": {
    "collapsed": false,
    "pycharm": {
     "name": "#%% md\n"
    }
   }
  },
  {
   "cell_type": "markdown",
   "source": [
    "В качестве модели предлагаю использовать одну из версий BERT, наиболее легковесную. В соответствии с пайпланом на выходе с BERT должен находиться линейный классификатор с одним выходом и двумя вариантами ответа. Для получения высокой точности предсказаний, предлагаю провести дообучение модели на имеющихся данных.\n",
    "\n",
    "Для запуска уже обученной модели, прокрутите ноутбук в самый низ."
   ],
   "metadata": {
    "collapsed": false,
    "pycharm": {
     "name": "#%% md\n"
    }
   }
  },
  {
   "cell_type": "markdown",
   "source": [
    "[Модель: cointegrated/rubert-tiny](https://huggingface.co/cointegrated/rubert-tiny)"
   ],
   "metadata": {
    "collapsed": false,
    "pycharm": {
     "name": "#%% md\n"
    }
   }
  },
  {
   "cell_type": "code",
   "execution_count": 1,
   "outputs": [],
   "source": [
    "import time\n",
    "import numpy as np\n",
    "import pandas as pd\n",
    "import matplotlib.pyplot as plt\n",
    "from sklearn.model_selection import train_test_split\n",
    "import torch\n",
    "from torch.utils.data import Dataset, DataLoader\n",
    "from transformers import BertTokenizer, BertForSequenceClassification\n",
    "from transformers import AdamW, get_linear_schedule_with_warmup"
   ],
   "metadata": {
    "collapsed": false,
    "pycharm": {
     "name": "#%%\n"
    }
   }
  },
  {
   "cell_type": "markdown",
   "source": [
    "### pyTorch: DataSet\n",
    "Подготовленный тип данных на базе torch.dataset, с обработкой текста токенизатором БЕРТа"
   ],
   "metadata": {
    "collapsed": false,
    "pycharm": {
     "name": "#%% md\n"
    }
   }
  },
  {
   "cell_type": "code",
   "execution_count": 2,
   "outputs": [],
   "source": [
    "class CustomDataset(Dataset):\n",
    "\n",
    "    def __init__(self, texts, targets, tokenizer, max_len=512):\n",
    "        self.texts = texts\n",
    "        self.targets = targets\n",
    "        self.tokenizer = tokenizer\n",
    "        self.max_len = max_len\n",
    "\n",
    "    def __len__(self):\n",
    "        return len(self.texts)\n",
    "\n",
    "    def __getitem__(self, idx):\n",
    "        text = str(self.texts[idx])\n",
    "        target = self.targets[idx]\n",
    "\n",
    "        encoding = self.tokenizer.encode_plus(\n",
    "            text,\n",
    "            add_special_tokens=True,\n",
    "            max_length=self.max_len,\n",
    "            return_token_type_ids=False,\n",
    "            padding='max_length',\n",
    "            return_attention_mask=True,\n",
    "            return_tensors='pt',\n",
    "        )\n",
    "        return {\n",
    "            'text': text,\n",
    "            'input_ids': encoding['input_ids'].flatten(),\n",
    "            'attention_mask': encoding['attention_mask'].flatten(),\n",
    "            'targets': torch.tensor(target, dtype=torch.long)\n",
    "        }"
   ],
   "metadata": {
    "collapsed": false,
    "pycharm": {
     "name": "#%%\n"
    }
   }
  },
  {
   "cell_type": "markdown",
   "source": [
    "### pyTorch + transformers: BertClassifier\n",
    "Обертка над BertForSequenceClassification с train\\predict методами"
   ],
   "metadata": {
    "collapsed": false,
    "pycharm": {
     "name": "#%% md\n"
    }
   }
  },
  {
   "cell_type": "code",
   "execution_count": 3,
   "outputs": [],
   "source": [
    "class BertClassifier:\n",
    "\n",
    "    def __init__(self, model_path, tokenizer_path, epochs=2, batch_size=5, n_classes=2, model_save_path='bert.pt'):\n",
    "        self.epochs = epochs\n",
    "        self.batch_size = batch_size\n",
    "        self.model = BertForSequenceClassification.from_pretrained(model_path)\n",
    "        self.tokenizer = BertTokenizer.from_pretrained(tokenizer_path)\n",
    "        self.device = torch.device(\"cuda:0\" if torch.cuda.is_available() else \"cpu\")\n",
    "        self.model_save_path = model_save_path\n",
    "        self.max_len = 512\n",
    "        self.out_features = self.model.bert.encoder.layer[1].output.dense.out_features\n",
    "        self.model.classifier = torch.nn.Linear(self.out_features, n_classes)\n",
    "        self.model.to(self.device)\n",
    "\n",
    "    def preparation(self, X_train, y_train, X_valid, y_valid):\n",
    "        self.train_set = CustomDataset(X_train, y_train, self.tokenizer)\n",
    "        self.valid_set = CustomDataset(X_valid, y_valid, self.tokenizer)\n",
    "\n",
    "        # create data loaders\n",
    "        self.train_loader = DataLoader(self.train_set, batch_size=5, shuffle=True)\n",
    "        self.valid_loader = DataLoader(self.valid_set, batch_size=5, shuffle=True)\n",
    "\n",
    "        # helpers initialization\n",
    "        self.optimizer = AdamW(self.model.parameters(), lr=2e-5, correct_bias=False)\n",
    "        self.scheduler = get_linear_schedule_with_warmup(\n",
    "            self.optimizer,\n",
    "            num_warmup_steps=0,\n",
    "            num_training_steps=len(self.train_loader) * self.epochs\n",
    "        )\n",
    "        self.loss_fn = torch.nn.CrossEntropyLoss().to(self.device)\n",
    "\n",
    "    def fit(self):\n",
    "        self.model = self.model.train()\n",
    "        losses = []\n",
    "        correct_predictions = 0\n",
    "\n",
    "        for data in self.train_loader:\n",
    "            input_ids = data[\"input_ids\"].to(self.device)\n",
    "            attention_mask = data[\"attention_mask\"].to(self.device)\n",
    "            targets = data[\"targets\"].to(self.device)\n",
    "\n",
    "            outputs = self.model(\n",
    "                input_ids=input_ids,\n",
    "                attention_mask=attention_mask\n",
    "            )\n",
    "\n",
    "            preds = torch.argmax(outputs.logits, dim=1)\n",
    "            loss = self.loss_fn(outputs.logits, targets)\n",
    "\n",
    "            correct_predictions += torch.sum(preds == targets)\n",
    "\n",
    "            losses.append(loss.item())\n",
    "\n",
    "            loss.backward()\n",
    "            torch.nn.utils.clip_grad_norm_(self.model.parameters(), max_norm=1.0)\n",
    "            self.optimizer.step()\n",
    "            self.scheduler.step()\n",
    "            self.optimizer.zero_grad()\n",
    "\n",
    "        train_acc = correct_predictions.double() / len(self.train_set)\n",
    "        train_loss = np.mean(losses)\n",
    "        return train_acc, train_loss\n",
    "\n",
    "    def eval(self):\n",
    "        self.model = self.model.eval()\n",
    "        losses = []\n",
    "        correct_predictions = 0\n",
    "\n",
    "        with torch.no_grad():\n",
    "            for data in self.valid_loader:\n",
    "                input_ids = data[\"input_ids\"].to(self.device)\n",
    "                attention_mask = data[\"attention_mask\"].to(self.device)\n",
    "                targets = data[\"targets\"].to(self.device)\n",
    "\n",
    "                outputs = self.model(\n",
    "                    input_ids=input_ids,\n",
    "                    attention_mask=attention_mask\n",
    "                )\n",
    "\n",
    "                preds = torch.argmax(outputs.logits, dim=1)\n",
    "                loss = self.loss_fn(outputs.logits, targets)\n",
    "                correct_predictions += torch.sum(preds == targets)\n",
    "                losses.append(loss.item())\n",
    "\n",
    "        val_acc = correct_predictions.double() / len(self.valid_set)\n",
    "        val_loss = np.mean(losses)\n",
    "        return val_acc, val_loss\n",
    "\n",
    "    def train(self):\n",
    "        best_accuracy = 0\n",
    "        train_acc_array = []\n",
    "        val_acc_arrat = []\n",
    "        train_loss_array = []\n",
    "        val_loss_array = []\n",
    "        for epoch in range(self.epochs):\n",
    "            start_time = time.time()\n",
    "            print(f'Epoch {epoch + 1}/{self.epochs}')\n",
    "            train_acc, train_loss = self.fit()\n",
    "            print(f'Train loss {train_loss} accuracy {train_acc}')\n",
    "\n",
    "            val_acc, val_loss = self.eval()\n",
    "            print(f'Val loss {val_loss} accuracy {val_acc}')\n",
    "            print(f'Epoch time {time.time() - start_time}')\n",
    "            print('-' * 10)\n",
    "\n",
    "            if val_acc > best_accuracy:\n",
    "                torch.save(self.model, self.model_save_path)\n",
    "                best_accuracy = val_acc\n",
    "            train_acc_array.append(train_acc.cpu().numpy())\n",
    "            val_acc_arrat.append(val_acc.cpu().numpy())\n",
    "            train_loss_array.append(train_loss)\n",
    "            val_loss_array.append(val_loss)\n",
    "\n",
    "        self.model = torch.load(self.model_save_path)\n",
    "        return train_acc_array, val_acc_arrat, train_loss_array, val_loss_array\n",
    "\n",
    "    def predict(self, text):\n",
    "        encoding = self.tokenizer.encode_plus(\n",
    "            text,\n",
    "            add_special_tokens=True,\n",
    "            max_length=self.max_len,\n",
    "            return_token_type_ids=False,\n",
    "            truncation=True,\n",
    "            padding='max_length',\n",
    "            return_attention_mask=True,\n",
    "            return_tensors='pt',\n",
    "        )\n",
    "\n",
    "        out = {\n",
    "            'text': text,\n",
    "            'input_ids': encoding['input_ids'].flatten(),\n",
    "            'attention_mask': encoding['attention_mask'].flatten()\n",
    "        }\n",
    "\n",
    "        input_ids = out[\"input_ids\"].to(self.device)\n",
    "        attention_mask = out[\"attention_mask\"].to(self.device)\n",
    "\n",
    "        outputs = self.model(\n",
    "            input_ids=input_ids.unsqueeze(0),\n",
    "            attention_mask=attention_mask.unsqueeze(0)\n",
    "        )\n",
    "\n",
    "        prediction = torch.argmax(outputs.logits, dim=1).cpu().numpy()[0]\n",
    "\n",
    "        return prediction"
   ],
   "metadata": {
    "collapsed": false,
    "pycharm": {
     "name": "#%%\n"
    }
   }
  },
  {
   "cell_type": "markdown",
   "source": [
    "### Предобработка\n"
   ],
   "metadata": {
    "collapsed": false,
    "pycharm": {
     "name": "#%% md\n"
    }
   }
  },
  {
   "cell_type": "code",
   "execution_count": 4,
   "metadata": {
    "pycharm": {
     "name": "#%%\n"
    }
   },
   "outputs": [
    {
     "data": {
      "text/plain": "                                                text  isPositive\n0  27.09.19 через сайт в разделе \"Рефинансировани...           0\n1  Добрый день! Неоднократно поступают звонки по ...           0\n2  В первый раз решила воспользоваться кредитной ...           0\n3  На самом дело уже накипело из-за участившегося...           0\n4  Если вы дорожите своими нервами - ни при каких...           0",
      "text/html": "<div>\n<style scoped>\n    .dataframe tbody tr th:only-of-type {\n        vertical-align: middle;\n    }\n\n    .dataframe tbody tr th {\n        vertical-align: top;\n    }\n\n    .dataframe thead th {\n        text-align: right;\n    }\n</style>\n<table border=\"1\" class=\"dataframe\">\n  <thead>\n    <tr style=\"text-align: right;\">\n      <th></th>\n      <th>text</th>\n      <th>isPositive</th>\n    </tr>\n  </thead>\n  <tbody>\n    <tr>\n      <th>0</th>\n      <td>27.09.19 через сайт в разделе \"Рефинансировани...</td>\n      <td>0</td>\n    </tr>\n    <tr>\n      <th>1</th>\n      <td>Добрый день! Неоднократно поступают звонки по ...</td>\n      <td>0</td>\n    </tr>\n    <tr>\n      <th>2</th>\n      <td>В первый раз решила воспользоваться кредитной ...</td>\n      <td>0</td>\n    </tr>\n    <tr>\n      <th>3</th>\n      <td>На самом дело уже накипело из-за участившегося...</td>\n      <td>0</td>\n    </tr>\n    <tr>\n      <th>4</th>\n      <td>Если вы дорожите своими нервами - ни при каких...</td>\n      <td>0</td>\n    </tr>\n  </tbody>\n</table>\n</div>"
     },
     "execution_count": 4,
     "metadata": {},
     "output_type": "execute_result"
    }
   ],
   "source": [
    "train_df=pd.read_csv('train_tin.csv', encoding=\"cp1251\", sep=',',header=0)\n",
    "train_df.head()"
   ]
  },
  {
   "cell_type": "code",
   "execution_count": 5,
   "metadata": {
    "pycharm": {
     "name": "#%%\n"
    }
   },
   "outputs": [
    {
     "data": {
      "text/plain": "                                                text  isPositive\n0  Добрый день! Я являюсь клиентом Тинькофф банк ...         NaN\n1  Хочу выразить огромную благодарность банку Тин...         NaN\n2  Выражаю благодарность К-ву Александру В. за ст...         NaN\n3  В январе 2019 года оформила потребительский кр...         NaN\n4  Добрый день. Хочу поблагодарить банк Тинькофф ...         NaN",
      "text/html": "<div>\n<style scoped>\n    .dataframe tbody tr th:only-of-type {\n        vertical-align: middle;\n    }\n\n    .dataframe tbody tr th {\n        vertical-align: top;\n    }\n\n    .dataframe thead th {\n        text-align: right;\n    }\n</style>\n<table border=\"1\" class=\"dataframe\">\n  <thead>\n    <tr style=\"text-align: right;\">\n      <th></th>\n      <th>text</th>\n      <th>isPositive</th>\n    </tr>\n  </thead>\n  <tbody>\n    <tr>\n      <th>0</th>\n      <td>Добрый день! Я являюсь клиентом Тинькофф банк ...</td>\n      <td>NaN</td>\n    </tr>\n    <tr>\n      <th>1</th>\n      <td>Хочу выразить огромную благодарность банку Тин...</td>\n      <td>NaN</td>\n    </tr>\n    <tr>\n      <th>2</th>\n      <td>Выражаю благодарность К-ву Александру В. за ст...</td>\n      <td>NaN</td>\n    </tr>\n    <tr>\n      <th>3</th>\n      <td>В январе 2019 года оформила потребительский кр...</td>\n      <td>NaN</td>\n    </tr>\n    <tr>\n      <th>4</th>\n      <td>Добрый день. Хочу поблагодарить банк Тинькофф ...</td>\n      <td>NaN</td>\n    </tr>\n  </tbody>\n</table>\n</div>"
     },
     "execution_count": 5,
     "metadata": {},
     "output_type": "execute_result"
    }
   ],
   "source": [
    "test_df=pd.read_csv('test_tin.csv', encoding=\"cp1251\", sep=',',header=0)\n",
    "test_df.head()"
   ]
  },
  {
   "cell_type": "markdown",
   "source": [
    "Для дообучения Берта, ему на вход, помимо самих данных, должны попасть токенизированныепоследовательности символов. Размерностью не превышающие 512 токенов. Соответственно, нужно разбить тексты обучающей выборки на части длинной не более 512 симоволов.\n",
    "Label для каждой такой последовательности будет дублироваться из основного комментария."
   ],
   "metadata": {
    "collapsed": false,
    "pycharm": {
     "name": "#%% md\n"
    }
   }
  },
  {
   "cell_type": "markdown",
   "source": [],
   "metadata": {
    "collapsed": false,
    "pycharm": {
     "name": "#%% md\n"
    }
   }
  },
  {
   "cell_type": "code",
   "execution_count": 6,
   "metadata": {
    "pycharm": {
     "name": "#%%\n"
    }
   },
   "outputs": [],
   "source": [
    "x_train = []\n",
    "x_test = []\n",
    "y_train = []\n",
    "y_test = []\n",
    "for i in range(len(train_df)):\n",
    "    tmp = train_df['text'].values[i]\n",
    "    while len(tmp) > 0:\n",
    "        x_train.append(tmp[:512])\n",
    "        y_train.append(train_df['isPositive'].values[i])\n",
    "        tmp = tmp[512:]"
   ]
  },
  {
   "cell_type": "code",
   "execution_count": 7,
   "outputs": [],
   "source": [
    "x_train, x_valid, y_train, y_valid = train_test_split(x_train, y_train,\n",
    "                                                      test_size=0.2,\n",
    "                                                      random_state=4)"
   ],
   "metadata": {
    "collapsed": false,
    "pycharm": {
     "name": "#%%\n"
    }
   }
  },
  {
   "cell_type": "markdown",
   "source": [
    "### Fine-tune tiny BERT"
   ],
   "metadata": {
    "collapsed": false,
    "pycharm": {
     "name": "#%% md\n"
    }
   }
  },
  {
   "cell_type": "code",
   "execution_count": 8,
   "outputs": [
    {
     "name": "stderr",
     "output_type": "stream",
     "text": [
      "Some weights of the model checkpoint at cointegrated/rubert-tiny were not used when initializing BertForSequenceClassification: ['cls.predictions.transform.dense.bias', 'cls.predictions.transform.LayerNorm.weight', 'cls.seq_relationship.bias', 'cls.predictions.bias', 'cls.seq_relationship.weight', 'cls.predictions.decoder.weight', 'cls.predictions.transform.LayerNorm.bias', 'cls.predictions.decoder.bias', 'cls.predictions.transform.dense.weight']\n",
      "- This IS expected if you are initializing BertForSequenceClassification from the checkpoint of a model trained on another task or with another architecture (e.g. initializing a BertForSequenceClassification model from a BertForPreTraining model).\n",
      "- This IS NOT expected if you are initializing BertForSequenceClassification from the checkpoint of a model that you expect to be exactly identical (initializing a BertForSequenceClassification model from a BertForSequenceClassification model).\n",
      "Some weights of BertForSequenceClassification were not initialized from the model checkpoint at cointegrated/rubert-tiny and are newly initialized: ['classifier.weight', 'classifier.bias']\n",
      "You should probably TRAIN this model on a down-stream task to be able to use it for predictions and inference.\n"
     ]
    }
   ],
   "source": [
    "epochs = 2\n",
    "batch_size = 1\n",
    "classifier = BertClassifier(\n",
    "    model_path='cointegrated/rubert-tiny',\n",
    "    tokenizer_path='cointegrated/rubert-tiny',\n",
    "    epochs=epochs,\n",
    "    batch_size=batch_size,\n",
    "    n_classes=2,\n",
    "    model_save_path='bert.pt'\n",
    ")"
   ],
   "metadata": {
    "collapsed": false,
    "pycharm": {
     "name": "#%%\n"
    }
   }
  },
  {
   "cell_type": "code",
   "execution_count": 9,
   "outputs": [],
   "source": [
    "classifier.preparation(X_train=x_train, y_train=y_train,\n",
    "                       X_valid=x_valid, y_valid=y_valid)"
   ],
   "metadata": {
    "collapsed": false,
    "pycharm": {
     "name": "#%%\n"
    }
   }
  },
  {
   "cell_type": "markdown",
   "source": [
    "При обучении модели, больше чем 1-2 эпохи, она в значительной степени переобучается, и хотя это почти не вляет на валидационную часть данных: за 10 эпох, значение accuracy зависло около 0.88, зато потери возросли с 0.4 до 1."
   ],
   "metadata": {
    "collapsed": false,
    "pycharm": {
     "name": "#%% md\n"
    }
   }
  },
  {
   "cell_type": "code",
   "execution_count": 10,
   "outputs": [
    {
     "name": "stdout",
     "output_type": "stream",
     "text": [
      "Epoch 1/2\n",
      "Train loss 0.4079897329870106 accuracy 0.8384752677205508\n",
      "Val loss 0.3837363056041082 accuracy 0.8710499490316005\n",
      "Epoch time 98.23680686950684\n",
      "----------\n",
      "Epoch 2/2\n",
      "Train loss 0.34677623533529517 accuracy 0.8841152473227946\n",
      "Val loss 0.41252072049990895 accuracy 0.8756371049949032\n",
      "Epoch time 96.97204041481018\n",
      "----------\n"
     ]
    }
   ],
   "source": [
    "history = classifier.train()"
   ],
   "metadata": {
    "collapsed": false,
    "pycharm": {
     "name": "#%%\n"
    }
   }
  },
  {
   "cell_type": "code",
   "execution_count": 11,
   "outputs": [
    {
     "data": {
      "text/plain": "([<matplotlib.axis.XTick at 0x2218fa952b0>,\n  <matplotlib.axis.XTick at 0x2218fa95280>],\n [Text(0, 0, ''), Text(0, 0, '')])"
     },
     "execution_count": 11,
     "metadata": {},
     "output_type": "execute_result"
    },
    {
     "data": {
      "text/plain": "<Figure size 432x288 with 1 Axes>",
      "image/png": "[encoded data removed]"
     },
     "metadata": {
      "needs_background": "light"
     },
     "output_type": "display_data"
    },
    {
     "data": {
      "text/plain": "<Figure size 432x288 with 1 Axes>",
      "image/png": "[encoded data removed]"
     },
     "metadata": {
      "needs_background": "light"
     },
     "output_type": "display_data"
    }
   ],
   "source": [
    "plt.figure()\n",
    "plt.plot(history[2], label='train loss')\n",
    "plt.plot(history[3], label='val loss')\n",
    "plt.legend(loc='best')\n",
    "plt.grid()\n",
    "plt.xticks(range(0,epochs))\n",
    "plt.figure()\n",
    "plt.plot(history[0], label='train acc')\n",
    "plt.plot(history[1], label='val acc')\n",
    "plt.legend(loc='best')\n",
    "plt.grid()\n",
    "plt.xticks(range(0,epochs))"
   ],
   "metadata": {
    "collapsed": false,
    "pycharm": {
     "name": "#%%\n"
    }
   }
  },
  {
   "cell_type": "markdown",
   "source": [
    "### Predict on full train sentences"
   ],
   "metadata": {
    "collapsed": false,
    "pycharm": {
     "name": "#%% md\n"
    }
   }
  },
  {
   "cell_type": "code",
   "execution_count": 12,
   "outputs": [],
   "source": [
    "texts = train_df['text'].values[:50]\n",
    "labels = train_df['isPositive'].values[:50]"
   ],
   "metadata": {
    "collapsed": false,
    "pycharm": {
     "name": "#%%\n"
    }
   }
  },
  {
   "cell_type": "markdown",
   "source": [
    "### Predict"
   ],
   "metadata": {
    "collapsed": false,
    "pycharm": {
     "name": "#%% md\n"
    }
   }
  },
  {
   "cell_type": "code",
   "execution_count": 13,
   "outputs": [],
   "source": [
    "texts = test_df['text'].values\n",
    "labels = test_df['isPositive'].values\n",
    "predictions = [classifier.predict(t) for t in texts]"
   ],
   "metadata": {
    "collapsed": false,
    "pycharm": {
     "name": "#%%\n"
    }
   }
  },
  {
   "cell_type": "markdown",
   "source": [
    "# Use model from file"
   ],
   "metadata": {
    "collapsed": false,
    "pycharm": {
     "name": "#%% md\n"
    }
   }
  },
  {
   "cell_type": "code",
   "execution_count": 14,
   "outputs": [],
   "source": [
    "import torch\n",
    "import pandas as pd\n",
    "import numpy as np"
   ],
   "metadata": {
    "collapsed": false,
    "pycharm": {
     "name": "#%%\n"
    }
   }
  },
  {
   "cell_type": "code",
   "execution_count": 15,
   "outputs": [],
   "source": [
    "def predict(tokenizer, model, text):\n",
    "    device = torch.device(\"cuda:0\" if torch.cuda.is_available() else \"cpu\")\n",
    "    encoding = tokenizer.encode_plus(\n",
    "        text,\n",
    "        add_special_tokens=True,\n",
    "        max_length=512,\n",
    "        return_token_type_ids=False,\n",
    "        truncation=True,\n",
    "        padding='max_length',\n",
    "        return_attention_mask=True,\n",
    "        return_tensors='pt',\n",
    "    )\n",
    "\n",
    "    out = {\n",
    "        'text': text,\n",
    "        'input_ids': encoding['input_ids'].flatten(),\n",
    "        'attention_mask': encoding['attention_mask'].flatten()\n",
    "    }\n",
    "\n",
    "    input_ids = out[\"input_ids\"].to(device)\n",
    "    attention_mask = out[\"attention_mask\"].to(device)\n",
    "\n",
    "    outputs = model(\n",
    "        input_ids=input_ids.unsqueeze(0),\n",
    "        attention_mask=attention_mask.unsqueeze(0)\n",
    "    )\n",
    "\n",
    "    prediction = torch.argmax(outputs.logits, dim=1).cpu().numpy()[0]\n",
    "\n",
    "    return prediction"
   ],
   "metadata": {
    "collapsed": false,
    "pycharm": {
     "name": "#%%\n"
    }
   }
  },
  {
   "cell_type": "code",
   "execution_count": 16,
   "outputs": [],
   "source": [
    "tokenizer = BertTokenizer.from_pretrained('cointegrated/rubert-tiny')\n",
    "model = torch.load('bert.pt')"
   ],
   "metadata": {
    "collapsed": false,
    "pycharm": {
     "name": "#%%\n"
    }
   }
  },
  {
   "cell_type": "code",
   "execution_count": 17,
   "outputs": [
    {
     "name": "stdout",
     "output_type": "stream",
     "text": [
      "#47, label=0, pred=1\n",
      "#207, label=0, pred=1\n",
      "#362, label=0, pred=1\n",
      "#374, label=0, pred=1\n",
      "#484, label=0, pred=1\n",
      "#492, label=0, pred=1\n",
      "#546, label=0, pred=1\n",
      "#554, label=0, pred=1\n",
      "#569, label=0, pred=1\n",
      "#719, label=0, pred=1\n",
      "#748, label=0, pred=1\n",
      "#800, label=0, pred=1\n",
      "#860, label=0, pred=1\n",
      "#868, label=0, pred=1\n",
      "#885, label=0, pred=1\n",
      "#896, label=0, pred=1\n",
      "#909, label=0, pred=1\n",
      "#952, label=0, pred=1\n",
      "#998, label=0, pred=1\n",
      "#1244, label=0, pred=1\n",
      "#1263, label=0, pred=1\n",
      "#1361, label=0, pred=1\n",
      "#1383, label=0, pred=1\n",
      "#1392, label=0, pred=1\n",
      "#1425, label=0, pred=1\n",
      "#1539, label=0, pred=1\n",
      "#1613, label=0, pred=1\n",
      "#1665, label=0, pred=1\n",
      "#1684, label=0, pred=1\n",
      "#1697, label=0, pred=1\n",
      "#1816, label=0, pred=1\n",
      "#1818, label=0, pred=1\n",
      "#1938, label=0, pred=1\n",
      "#1976, label=1, pred=0\n",
      "#1980, label=1, pred=0\n",
      "#1987, label=1, pred=0\n",
      "#1998, label=1, pred=0\n",
      "#2001, label=1, pred=0\n",
      "#2004, label=1, pred=0\n",
      "#2010, label=1, pred=0\n",
      "#2016, label=1, pred=0\n",
      "#2025, label=1, pred=0\n",
      "#2026, label=1, pred=0\n",
      "#2031, label=1, pred=0\n",
      "#2049, label=1, pred=0\n",
      "#2052, label=1, pred=0\n",
      "#2055, label=1, pred=0\n",
      "#2070, label=1, pred=0\n",
      "#2073, label=1, pred=0\n",
      "#2086, label=1, pred=0\n",
      "#2090, label=1, pred=0\n",
      "#2109, label=1, pred=0\n",
      "#2110, label=1, pred=0\n",
      "#2125, label=1, pred=0\n",
      "#2126, label=1, pred=0\n",
      "#2130, label=1, pred=0\n",
      "#2136, label=1, pred=0\n",
      "#2153, label=1, pred=0\n",
      "#2159, label=1, pred=0\n",
      "#2190, label=1, pred=0\n",
      "#2199, label=1, pred=0\n",
      "#2201, label=1, pred=0\n",
      "#2210, label=1, pred=0\n",
      "#2213, label=1, pred=0\n",
      "#2218, label=1, pred=0\n",
      "#2219, label=1, pred=0\n",
      "#2228, label=1, pred=0\n",
      "#2229, label=1, pred=0\n",
      "#2250, label=1, pred=0\n",
      "#2257, label=1, pred=0\n",
      "#2260, label=1, pred=0\n",
      "#2261, label=1, pred=0\n",
      "#2286, label=1, pred=0\n",
      "#2297, label=1, pred=0\n",
      "#2307, label=1, pred=0\n",
      "#2313, label=1, pred=0\n",
      "#2319, label=1, pred=0\n",
      "#2330, label=1, pred=0\n",
      "#2341, label=1, pred=0\n",
      "#2343, label=1, pred=0\n",
      "#2356, label=1, pred=0\n",
      "#2360, label=1, pred=0\n",
      "#2362, label=1, pred=0\n",
      "#2367, label=1, pred=0\n",
      "#2377, label=1, pred=0\n",
      "#2395, label=1, pred=0\n",
      "#2409, label=1, pred=0\n",
      "#2418, label=1, pred=0\n",
      "#2420, label=1, pred=0\n",
      "#2421, label=1, pred=0\n",
      "#2429, label=1, pred=0\n",
      "#2431, label=1, pred=0\n",
      "#2437, label=1, pred=0\n",
      "#2446, label=1, pred=0\n",
      "#2447, label=1, pred=0\n",
      "#2465, label=1, pred=0\n",
      "#2471, label=1, pred=0\n",
      "#2487, label=1, pred=0\n",
      "#2509, label=1, pred=0\n",
      "#2523, label=1, pred=0\n",
      "#2533, label=1, pred=0\n",
      "#2538, label=1, pred=0\n",
      "#2542, label=1, pred=0\n",
      "#2545, label=1, pred=0\n",
      "#2559, label=1, pred=0\n",
      "#2561, label=1, pred=0\n",
      "#2569, label=1, pred=0\n",
      "#2586, label=1, pred=0\n",
      "#2587, label=1, pred=0\n",
      "#2588, label=1, pred=0\n",
      "#2597, label=1, pred=0\n",
      "#2610, label=1, pred=0\n",
      "#2634, label=1, pred=0\n",
      "#2641, label=1, pred=0\n",
      "#2644, label=1, pred=0\n",
      "#2655, label=1, pred=0\n",
      "#2660, label=1, pred=0\n",
      "#2667, label=1, pred=0\n",
      "#2672, label=1, pred=0\n",
      "#2681, label=1, pred=0\n",
      "#2693, label=1, pred=0\n",
      "#2714, label=1, pred=0\n",
      "#2715, label=1, pred=0\n",
      "#2721, label=1, pred=0\n",
      "#2725, label=1, pred=0\n",
      "#2728, label=1, pred=0\n",
      "#2730, label=1, pred=0\n",
      "#2733, label=1, pred=0\n",
      "#2746, label=1, pred=0\n",
      "#2753, label=1, pred=0\n",
      "#2755, label=1, pred=0\n",
      "#2778, label=1, pred=0\n",
      "#2790, label=1, pred=0\n",
      "#2797, label=1, pred=0\n",
      "#2824, label=1, pred=0\n",
      "#2829, label=1, pred=0\n",
      "#2844, label=1, pred=0\n",
      "#2856, label=1, pred=0\n",
      "#2857, label=1, pred=0\n",
      "#2869, label=1, pred=0\n",
      "#2875, label=1, pred=0\n",
      "#2877, label=1, pred=0\n",
      "#2879, label=1, pred=0\n",
      "#2890, label=1, pred=0\n",
      "#2910, label=1, pred=0\n",
      "#2926, label=1, pred=0\n",
      "#2931, label=1, pred=0\n",
      "#2936, label=1, pred=0\n",
      "#2944, label=1, pred=0\n",
      "#2969, label=1, pred=0\n",
      "#2992, label=1, pred=0\n",
      "#2996, label=1, pred=0\n",
      "#3011, label=1, pred=0\n",
      "#3013, label=1, pred=0\n",
      "#3021, label=1, pred=0\n",
      "#3024, label=1, pred=0\n",
      "#3027, label=1, pred=0\n",
      "#3034, label=1, pred=0\n",
      "#3037, label=1, pred=0\n",
      "#3038, label=1, pred=0\n",
      "#3047, label=1, pred=0\n",
      "#3053, label=1, pred=0\n",
      "#3055, label=1, pred=0\n",
      "#3067, label=1, pred=0\n",
      "#3075, label=1, pred=0\n",
      "#3090, label=1, pred=0\n",
      "#3111, label=1, pred=0\n",
      "#3120, label=1, pred=0\n",
      "#3152, label=1, pred=0\n",
      "#3154, label=1, pred=0\n",
      "#3162, label=1, pred=0\n",
      "#3163, label=1, pred=0\n",
      "#3168, label=1, pred=0\n",
      "#3179, label=1, pred=0\n",
      "#3191, label=1, pred=0\n",
      "#3197, label=1, pred=0\n",
      "#3205, label=1, pred=0\n",
      "#3209, label=1, pred=0\n",
      "#3213, label=1, pred=0\n",
      "#3229, label=1, pred=0\n",
      "#3240, label=1, pred=0\n",
      "#3243, label=1, pred=0\n",
      "#3258, label=1, pred=0\n",
      "#3259, label=1, pred=0\n",
      "#3266, label=1, pred=0\n",
      "#3283, label=1, pred=0\n",
      "#3285, label=1, pred=0\n",
      "#3288, label=1, pred=0\n",
      "#3295, label=1, pred=0\n",
      "#3296, label=1, pred=0\n",
      "#3297, label=1, pred=0\n",
      "#3308, label=1, pred=0\n",
      "#3310, label=1, pred=0\n",
      "#3315, label=1, pred=0\n",
      "#3323, label=1, pred=0\n",
      "#3326, label=1, pred=0\n",
      "#3330, label=1, pred=0\n",
      "#3333, label=1, pred=0\n",
      "#3335, label=1, pred=0\n",
      "#3343, label=1, pred=0\n",
      "#3362, label=1, pred=0\n",
      "#3374, label=1, pred=0\n",
      "#3396, label=1, pred=0\n",
      "#3429, label=1, pred=0\n",
      "#3433, label=1, pred=0\n",
      "#3444, label=1, pred=0\n",
      "#3445, label=1, pred=0\n",
      "#3460, label=1, pred=0\n",
      "#3477, label=1, pred=0\n",
      "#3487, label=1, pred=0\n",
      "#3501, label=1, pred=0\n",
      "#3502, label=1, pred=0\n",
      "#3538, label=1, pred=0\n",
      "#3540, label=1, pred=0\n",
      "#3551, label=1, pred=0\n",
      "#3552, label=1, pred=0\n",
      "#3558, label=1, pred=0\n",
      "#3609, label=1, pred=0\n",
      "#3610, label=1, pred=0\n",
      "#3627, label=1, pred=0\n",
      "#3629, label=1, pred=0\n",
      "#3664, label=1, pred=0\n",
      "#3670, label=1, pred=0\n",
      "#3688, label=1, pred=0\n",
      "#3697, label=1, pred=0\n",
      "#3700, label=1, pred=0\n",
      "#3701, label=1, pred=0\n",
      "#3702, label=1, pred=0\n",
      "#3714, label=1, pred=0\n",
      "#3717, label=1, pred=0\n",
      "#3754, label=1, pred=0\n",
      "#3755, label=1, pred=0\n",
      "#3758, label=1, pred=0\n",
      "#3760, label=1, pred=0\n",
      "#3762, label=1, pred=0\n",
      "#3763, label=1, pred=0\n",
      "#3771, label=1, pred=0\n",
      "#3784, label=1, pred=0\n",
      "#3785, label=1, pred=0\n",
      "#3787, label=1, pred=0\n",
      "#3792, label=1, pred=0\n",
      "#3801, label=1, pred=0\n",
      "#3814, label=1, pred=0\n",
      "#3830, label=1, pred=0\n",
      "#3838, label=1, pred=0\n",
      "#3854, label=1, pred=0\n",
      "#3889, label=1, pred=0\n",
      "#3903, label=1, pred=0\n",
      "#3912, label=1, pred=0\n",
      "#3919, label=1, pred=0\n",
      "#3922, label=1, pred=0\n",
      "#3939, label=1, pred=0\n",
      "#3946, label=1, pred=0\n",
      "There is 253 errors in 3950 comments\n"
     ]
    }
   ],
   "source": [
    "test_df=pd.read_csv('train_tin.csv', encoding=\"cp1251\", sep=',',header=0)\n",
    "texts = test_df['text'].values\n",
    "labels = test_df['isPositive'].values\n",
    "predictions = [predict(tokenizer, model, t) for t in texts]\n",
    "error_fl = False\n",
    "error_counter = 0\n",
    "for i in range(len(labels)):\n",
    "    if labels[i] != predictions[i]:\n",
    "        error_fl = True\n",
    "        error_counter += 1\n",
    "        print(f'#{i}, label={labels[i]}, pred={predictions[i]}')\n",
    "if not error_fl:\n",
    "    print('All answers are correct')\n",
    "else:\n",
    "    print(f'There is {error_counter} errors in {len(labels)} comments')"
   ],
   "metadata": {
    "collapsed": false,
    "pycharm": {
     "name": "#%%\n"
    }
   }
  },
  {
   "cell_type": "code",
   "execution_count": 18,
   "outputs": [],
   "source": [
    "test_df=pd.read_csv('test_tin.csv', encoding=\"cp1251\", sep=',',header=0)\n",
    "texts = test_df['text'].values\n",
    "predictions = [predict(tokenizer, model, t) for t in texts]\n",
    "df_out = pd.DataFrame({'text':texts, 'isPositive':predictions})"
   ],
   "metadata": {
    "collapsed": false,
    "pycharm": {
     "name": "#%%\n"
    }
   }
  },
  {
   "cell_type": "code",
   "execution_count": 19,
   "outputs": [
    {
     "data": {
      "text/plain": "                                                  text  isPositive\n0    Добрый день! Я являюсь клиентом Тинькофф банк ...           0\n1    Хочу выразить огромную благодарность банку Тин...           1\n2    Выражаю благодарность К-ву Александру В. за ст...           1\n3    В январе 2019 года оформила потребительский кр...           0\n4    Добрый день. Хочу поблагодарить банк Тинькофф ...           1\n..                                                 ...         ...\n995  Приветствую! 18.02 хотел совершить несколько п...           0\n996  Сотрудник Шахноза (6904552) очень грамотно и б...           1\n997  Добрый день!Я являюсь клиентом банка, теперь у...           0\n998  Столкнулись с проблемой: нужно было провести п...           1\n999  Всем здраствуйте,  хочу оставить еще один отзы...           0\n\n[1000 rows x 2 columns]",
      "text/html": "<div>\n<style scoped>\n    .dataframe tbody tr th:only-of-type {\n        vertical-align: middle;\n    }\n\n    .dataframe tbody tr th {\n        vertical-align: top;\n    }\n\n    .dataframe thead th {\n        text-align: right;\n    }\n</style>\n<table border=\"1\" class=\"dataframe\">\n  <thead>\n    <tr style=\"text-align: right;\">\n      <th></th>\n      <th>text</th>\n      <th>isPositive</th>\n    </tr>\n  </thead>\n  <tbody>\n    <tr>\n      <th>0</th>\n      <td>Добрый день! Я являюсь клиентом Тинькофф банк ...</td>\n      <td>0</td>\n    </tr>\n    <tr>\n      <th>1</th>\n      <td>Хочу выразить огромную благодарность банку Тин...</td>\n      <td>1</td>\n    </tr>\n    <tr>\n      <th>2</th>\n      <td>Выражаю благодарность К-ву Александру В. за ст...</td>\n      <td>1</td>\n    </tr>\n    <tr>\n      <th>3</th>\n      <td>В январе 2019 года оформила потребительский кр...</td>\n      <td>0</td>\n    </tr>\n    <tr>\n      <th>4</th>\n      <td>Добрый день. Хочу поблагодарить банк Тинькофф ...</td>\n      <td>1</td>\n    </tr>\n    <tr>\n      <th>...</th>\n      <td>...</td>\n      <td>...</td>\n    </tr>\n    <tr>\n      <th>995</th>\n      <td>Приветствую! 18.02 хотел совершить несколько п...</td>\n      <td>0</td>\n    </tr>\n    <tr>\n      <th>996</th>\n      <td>Сотрудник Шахноза (6904552) очень грамотно и б...</td>\n      <td>1</td>\n    </tr>\n    <tr>\n      <th>997</th>\n      <td>Добрый день!Я являюсь клиентом банка, теперь у...</td>\n      <td>0</td>\n    </tr>\n    <tr>\n      <th>998</th>\n      <td>Столкнулись с проблемой: нужно было провести п...</td>\n      <td>1</td>\n    </tr>\n    <tr>\n      <th>999</th>\n      <td>Всем здраствуйте,  хочу оставить еще один отзы...</td>\n      <td>0</td>\n    </tr>\n  </tbody>\n</table>\n<p>1000 rows × 2 columns</p>\n</div>"
     },
     "execution_count": 19,
     "metadata": {},
     "output_type": "execute_result"
    }
   ],
   "source": [
    "df_out"
   ],
   "metadata": {
    "collapsed": false,
    "pycharm": {
     "name": "#%%\n"
    }
   }
  }
 ],
 "metadata": {
  "kernelspec": {
   "name": "neuro_t",
   "language": "python",
   "display_name": "neuro_t"
  },
  "language_info": {
   "codemirror_mode": {
    "name": "ipython",
    "version": 3
   },
   "file_extension": ".py",
   "mimetype": "text/x-python",
   "name": "python",
   "nbconvert_exporter": "python",
   "pygments_lexer": "ipython3",
   "version": "3.8.12"
  }
 },
 "nbformat": 4,
 "nbformat_minor": 1
}